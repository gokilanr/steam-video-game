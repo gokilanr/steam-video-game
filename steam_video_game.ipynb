{
  "cells": [
    {
      "cell_type": "markdown",
      "metadata": {
        "id": "WHwPI3DlzBpJ"
      },
      "source": [
        "# STEAM VIDEO GAMES RECOMMENDATION SYSTEM\n",
        "\n",
        "we need to recommend the similar games to the user based on their behaviour"
      ]
    },
    {
      "cell_type": "markdown",
      "metadata": {
        "id": "zcySz1hYzkSm"
      },
      "source": [
        "#About dataset\n",
        "This dataset is a list of user behaviors, with columns: user-id, game-title, behavior-name, value. The behaviors included are 'purchase' and 'play'. The value indicates the degree to which the behavior was performed - in the case of 'purchase' the value is always 1, and in the case of 'play' the value represents the number of hours the user has played the game.\n",
        "\n",
        "steam-200k - (199999, 5)"
      ]
    },
    {
      "cell_type": "markdown",
      "metadata": {
        "id": "7QXgFO_Zzsj6"
      },
      "source": [
        "# Columns in dataset\n",
        "user-id\n",
        "\n",
        "game-title\n",
        "\n",
        "behavior-name\n",
        "\n",
        "value\n",
        "\n",
        "0"
      ]
    },
    {
      "cell_type": "code",
      "execution_count": null,
      "metadata": {
        "id": "UxedlBqLZiew"
      },
      "outputs": [],
      "source": [
        "# import all necessary libraries\n",
        "import pandas as pd\n",
        "import numpy as np\n",
        "import seaborn as sns\n",
        "import matplotlib.pyplot as plt\n",
        "%matplotlib inline\n",
        "# import cosine similarity\n",
        "from sklearn.metrics.pairwise import cosine_similarity"
      ]
    },
    {
      "cell_type": "code",
      "execution_count": null,
      "metadata": {
        "colab": {
          "base_uri": "https://localhost:8080/",
          "height": 206
        },
        "id": "0YPYDltXZidl",
        "outputId": "be9c5af4-651b-4812-c1d4-c5b75cea42af"
      },
      "outputs": [
        {
          "output_type": "execute_result",
          "data": {
            "text/plain": [
              "   151603712  The Elder Scrolls V Skyrim  purchase    1.0  0\n",
              "0  151603712  The Elder Scrolls V Skyrim      play  273.0  0\n",
              "1  151603712                   Fallout 4  purchase    1.0  0\n",
              "2  151603712                   Fallout 4      play   87.0  0\n",
              "3  151603712                       Spore  purchase    1.0  0\n",
              "4  151603712                       Spore      play   14.9  0"
            ],
            "text/html": [
              "\n",
              "  <div id=\"df-4cd9e895-75ff-494d-96ea-81e4797da301\">\n",
              "    <div class=\"colab-df-container\">\n",
              "      <div>\n",
              "<style scoped>\n",
              "    .dataframe tbody tr th:only-of-type {\n",
              "        vertical-align: middle;\n",
              "    }\n",
              "\n",
              "    .dataframe tbody tr th {\n",
              "        vertical-align: top;\n",
              "    }\n",
              "\n",
              "    .dataframe thead th {\n",
              "        text-align: right;\n",
              "    }\n",
              "</style>\n",
              "<table border=\"1\" class=\"dataframe\">\n",
              "  <thead>\n",
              "    <tr style=\"text-align: right;\">\n",
              "      <th></th>\n",
              "      <th>151603712</th>\n",
              "      <th>The Elder Scrolls V Skyrim</th>\n",
              "      <th>purchase</th>\n",
              "      <th>1.0</th>\n",
              "      <th>0</th>\n",
              "    </tr>\n",
              "  </thead>\n",
              "  <tbody>\n",
              "    <tr>\n",
              "      <th>0</th>\n",
              "      <td>151603712</td>\n",
              "      <td>The Elder Scrolls V Skyrim</td>\n",
              "      <td>play</td>\n",
              "      <td>273.0</td>\n",
              "      <td>0</td>\n",
              "    </tr>\n",
              "    <tr>\n",
              "      <th>1</th>\n",
              "      <td>151603712</td>\n",
              "      <td>Fallout 4</td>\n",
              "      <td>purchase</td>\n",
              "      <td>1.0</td>\n",
              "      <td>0</td>\n",
              "    </tr>\n",
              "    <tr>\n",
              "      <th>2</th>\n",
              "      <td>151603712</td>\n",
              "      <td>Fallout 4</td>\n",
              "      <td>play</td>\n",
              "      <td>87.0</td>\n",
              "      <td>0</td>\n",
              "    </tr>\n",
              "    <tr>\n",
              "      <th>3</th>\n",
              "      <td>151603712</td>\n",
              "      <td>Spore</td>\n",
              "      <td>purchase</td>\n",
              "      <td>1.0</td>\n",
              "      <td>0</td>\n",
              "    </tr>\n",
              "    <tr>\n",
              "      <th>4</th>\n",
              "      <td>151603712</td>\n",
              "      <td>Spore</td>\n",
              "      <td>play</td>\n",
              "      <td>14.9</td>\n",
              "      <td>0</td>\n",
              "    </tr>\n",
              "  </tbody>\n",
              "</table>\n",
              "</div>\n",
              "      <button class=\"colab-df-convert\" onclick=\"convertToInteractive('df-4cd9e895-75ff-494d-96ea-81e4797da301')\"\n",
              "              title=\"Convert this dataframe to an interactive table.\"\n",
              "              style=\"display:none;\">\n",
              "        \n",
              "  <svg xmlns=\"http://www.w3.org/2000/svg\" height=\"24px\"viewBox=\"0 0 24 24\"\n",
              "       width=\"24px\">\n",
              "    <path d=\"M0 0h24v24H0V0z\" fill=\"none\"/>\n",
              "    <path d=\"M18.56 5.44l.94 2.06.94-2.06 2.06-.94-2.06-.94-.94-2.06-.94 2.06-2.06.94zm-11 1L8.5 8.5l.94-2.06 2.06-.94-2.06-.94L8.5 2.5l-.94 2.06-2.06.94zm10 10l.94 2.06.94-2.06 2.06-.94-2.06-.94-.94-2.06-.94 2.06-2.06.94z\"/><path d=\"M17.41 7.96l-1.37-1.37c-.4-.4-.92-.59-1.43-.59-.52 0-1.04.2-1.43.59L10.3 9.45l-7.72 7.72c-.78.78-.78 2.05 0 2.83L4 21.41c.39.39.9.59 1.41.59.51 0 1.02-.2 1.41-.59l7.78-7.78 2.81-2.81c.8-.78.8-2.07 0-2.86zM5.41 20L4 18.59l7.72-7.72 1.47 1.35L5.41 20z\"/>\n",
              "  </svg>\n",
              "      </button>\n",
              "      \n",
              "  <style>\n",
              "    .colab-df-container {\n",
              "      display:flex;\n",
              "      flex-wrap:wrap;\n",
              "      gap: 12px;\n",
              "    }\n",
              "\n",
              "    .colab-df-convert {\n",
              "      background-color: #E8F0FE;\n",
              "      border: none;\n",
              "      border-radius: 50%;\n",
              "      cursor: pointer;\n",
              "      display: none;\n",
              "      fill: #1967D2;\n",
              "      height: 32px;\n",
              "      padding: 0 0 0 0;\n",
              "      width: 32px;\n",
              "    }\n",
              "\n",
              "    .colab-df-convert:hover {\n",
              "      background-color: #E2EBFA;\n",
              "      box-shadow: 0px 1px 2px rgba(60, 64, 67, 0.3), 0px 1px 3px 1px rgba(60, 64, 67, 0.15);\n",
              "      fill: #174EA6;\n",
              "    }\n",
              "\n",
              "    [theme=dark] .colab-df-convert {\n",
              "      background-color: #3B4455;\n",
              "      fill: #D2E3FC;\n",
              "    }\n",
              "\n",
              "    [theme=dark] .colab-df-convert:hover {\n",
              "      background-color: #434B5C;\n",
              "      box-shadow: 0px 1px 3px 1px rgba(0, 0, 0, 0.15);\n",
              "      filter: drop-shadow(0px 1px 2px rgba(0, 0, 0, 0.3));\n",
              "      fill: #FFFFFF;\n",
              "    }\n",
              "  </style>\n",
              "\n",
              "      <script>\n",
              "        const buttonEl =\n",
              "          document.querySelector('#df-4cd9e895-75ff-494d-96ea-81e4797da301 button.colab-df-convert');\n",
              "        buttonEl.style.display =\n",
              "          google.colab.kernel.accessAllowed ? 'block' : 'none';\n",
              "\n",
              "        async function convertToInteractive(key) {\n",
              "          const element = document.querySelector('#df-4cd9e895-75ff-494d-96ea-81e4797da301');\n",
              "          const dataTable =\n",
              "            await google.colab.kernel.invokeFunction('convertToInteractive',\n",
              "                                                     [key], {});\n",
              "          if (!dataTable) return;\n",
              "\n",
              "          const docLinkHtml = 'Like what you see? Visit the ' +\n",
              "            '<a target=\"_blank\" href=https://colab.research.google.com/notebooks/data_table.ipynb>data table notebook</a>'\n",
              "            + ' to learn more about interactive tables.';\n",
              "          element.innerHTML = '';\n",
              "          dataTable['output_type'] = 'display_data';\n",
              "          await google.colab.output.renderOutput(dataTable, element);\n",
              "          const docLink = document.createElement('div');\n",
              "          docLink.innerHTML = docLinkHtml;\n",
              "          element.appendChild(docLink);\n",
              "        }\n",
              "      </script>\n",
              "    </div>\n",
              "  </div>\n",
              "  "
            ]
          },
          "metadata": {},
          "execution_count": 4
        }
      ],
      "source": [
        "# Read csv file using pandas\n",
        "df = pd.read_csv('steam-200k.csv')\n",
        "df.head()"
      ]
    },
    {
      "cell_type": "markdown",
      "metadata": {
        "id": "h8Uu6HJ3viSr"
      },
      "source": [
        "# EDA"
      ]
    },
    {
      "cell_type": "code",
      "execution_count": null,
      "metadata": {
        "id": "WCPhWXucZiaf"
      },
      "outputs": [],
      "source": [
        "# remane the column name as games user_id, hoursplay and status\n",
        "df.rename(columns = { '151603712':'user_id' ,'The Elder Scrolls V Skyrim':'games', 'purchase':'status', '1.0':'hoursplay' }, inplace = True)"
      ]
    },
    {
      "cell_type": "code",
      "execution_count": null,
      "metadata": {
        "colab": {
          "base_uri": "https://localhost:8080/",
          "height": 424
        },
        "id": "hcqEg4vyDf5a",
        "outputId": "f3ac8f58-44a6-4270-9cee-83cca1850226"
      },
      "outputs": [
        {
          "output_type": "execute_result",
          "data": {
            "text/plain": [
              "          user_id                       games    status  hoursplay  0\n",
              "0       151603712  The Elder Scrolls V Skyrim      play      273.0  0\n",
              "1       151603712                   Fallout 4  purchase        1.0  0\n",
              "2       151603712                   Fallout 4      play       87.0  0\n",
              "3       151603712                       Spore  purchase        1.0  0\n",
              "4       151603712                       Spore      play       14.9  0\n",
              "...           ...                         ...       ...        ... ..\n",
              "199994  128470551                 Titan Souls      play        1.5  0\n",
              "199995  128470551  Grand Theft Auto Vice City  purchase        1.0  0\n",
              "199996  128470551  Grand Theft Auto Vice City      play        1.5  0\n",
              "199997  128470551                        RUSH  purchase        1.0  0\n",
              "199998  128470551                        RUSH      play        1.4  0\n",
              "\n",
              "[199999 rows x 5 columns]"
            ],
            "text/html": [
              "\n",
              "  <div id=\"df-e1f129d8-460e-4a14-a4bf-109af0debf17\">\n",
              "    <div class=\"colab-df-container\">\n",
              "      <div>\n",
              "<style scoped>\n",
              "    .dataframe tbody tr th:only-of-type {\n",
              "        vertical-align: middle;\n",
              "    }\n",
              "\n",
              "    .dataframe tbody tr th {\n",
              "        vertical-align: top;\n",
              "    }\n",
              "\n",
              "    .dataframe thead th {\n",
              "        text-align: right;\n",
              "    }\n",
              "</style>\n",
              "<table border=\"1\" class=\"dataframe\">\n",
              "  <thead>\n",
              "    <tr style=\"text-align: right;\">\n",
              "      <th></th>\n",
              "      <th>user_id</th>\n",
              "      <th>games</th>\n",
              "      <th>status</th>\n",
              "      <th>hoursplay</th>\n",
              "      <th>0</th>\n",
              "    </tr>\n",
              "  </thead>\n",
              "  <tbody>\n",
              "    <tr>\n",
              "      <th>0</th>\n",
              "      <td>151603712</td>\n",
              "      <td>The Elder Scrolls V Skyrim</td>\n",
              "      <td>play</td>\n",
              "      <td>273.0</td>\n",
              "      <td>0</td>\n",
              "    </tr>\n",
              "    <tr>\n",
              "      <th>1</th>\n",
              "      <td>151603712</td>\n",
              "      <td>Fallout 4</td>\n",
              "      <td>purchase</td>\n",
              "      <td>1.0</td>\n",
              "      <td>0</td>\n",
              "    </tr>\n",
              "    <tr>\n",
              "      <th>2</th>\n",
              "      <td>151603712</td>\n",
              "      <td>Fallout 4</td>\n",
              "      <td>play</td>\n",
              "      <td>87.0</td>\n",
              "      <td>0</td>\n",
              "    </tr>\n",
              "    <tr>\n",
              "      <th>3</th>\n",
              "      <td>151603712</td>\n",
              "      <td>Spore</td>\n",
              "      <td>purchase</td>\n",
              "      <td>1.0</td>\n",
              "      <td>0</td>\n",
              "    </tr>\n",
              "    <tr>\n",
              "      <th>4</th>\n",
              "      <td>151603712</td>\n",
              "      <td>Spore</td>\n",
              "      <td>play</td>\n",
              "      <td>14.9</td>\n",
              "      <td>0</td>\n",
              "    </tr>\n",
              "    <tr>\n",
              "      <th>...</th>\n",
              "      <td>...</td>\n",
              "      <td>...</td>\n",
              "      <td>...</td>\n",
              "      <td>...</td>\n",
              "      <td>...</td>\n",
              "    </tr>\n",
              "    <tr>\n",
              "      <th>199994</th>\n",
              "      <td>128470551</td>\n",
              "      <td>Titan Souls</td>\n",
              "      <td>play</td>\n",
              "      <td>1.5</td>\n",
              "      <td>0</td>\n",
              "    </tr>\n",
              "    <tr>\n",
              "      <th>199995</th>\n",
              "      <td>128470551</td>\n",
              "      <td>Grand Theft Auto Vice City</td>\n",
              "      <td>purchase</td>\n",
              "      <td>1.0</td>\n",
              "      <td>0</td>\n",
              "    </tr>\n",
              "    <tr>\n",
              "      <th>199996</th>\n",
              "      <td>128470551</td>\n",
              "      <td>Grand Theft Auto Vice City</td>\n",
              "      <td>play</td>\n",
              "      <td>1.5</td>\n",
              "      <td>0</td>\n",
              "    </tr>\n",
              "    <tr>\n",
              "      <th>199997</th>\n",
              "      <td>128470551</td>\n",
              "      <td>RUSH</td>\n",
              "      <td>purchase</td>\n",
              "      <td>1.0</td>\n",
              "      <td>0</td>\n",
              "    </tr>\n",
              "    <tr>\n",
              "      <th>199998</th>\n",
              "      <td>128470551</td>\n",
              "      <td>RUSH</td>\n",
              "      <td>play</td>\n",
              "      <td>1.4</td>\n",
              "      <td>0</td>\n",
              "    </tr>\n",
              "  </tbody>\n",
              "</table>\n",
              "<p>199999 rows × 5 columns</p>\n",
              "</div>\n",
              "      <button class=\"colab-df-convert\" onclick=\"convertToInteractive('df-e1f129d8-460e-4a14-a4bf-109af0debf17')\"\n",
              "              title=\"Convert this dataframe to an interactive table.\"\n",
              "              style=\"display:none;\">\n",
              "        \n",
              "  <svg xmlns=\"http://www.w3.org/2000/svg\" height=\"24px\"viewBox=\"0 0 24 24\"\n",
              "       width=\"24px\">\n",
              "    <path d=\"M0 0h24v24H0V0z\" fill=\"none\"/>\n",
              "    <path d=\"M18.56 5.44l.94 2.06.94-2.06 2.06-.94-2.06-.94-.94-2.06-.94 2.06-2.06.94zm-11 1L8.5 8.5l.94-2.06 2.06-.94-2.06-.94L8.5 2.5l-.94 2.06-2.06.94zm10 10l.94 2.06.94-2.06 2.06-.94-2.06-.94-.94-2.06-.94 2.06-2.06.94z\"/><path d=\"M17.41 7.96l-1.37-1.37c-.4-.4-.92-.59-1.43-.59-.52 0-1.04.2-1.43.59L10.3 9.45l-7.72 7.72c-.78.78-.78 2.05 0 2.83L4 21.41c.39.39.9.59 1.41.59.51 0 1.02-.2 1.41-.59l7.78-7.78 2.81-2.81c.8-.78.8-2.07 0-2.86zM5.41 20L4 18.59l7.72-7.72 1.47 1.35L5.41 20z\"/>\n",
              "  </svg>\n",
              "      </button>\n",
              "      \n",
              "  <style>\n",
              "    .colab-df-container {\n",
              "      display:flex;\n",
              "      flex-wrap:wrap;\n",
              "      gap: 12px;\n",
              "    }\n",
              "\n",
              "    .colab-df-convert {\n",
              "      background-color: #E8F0FE;\n",
              "      border: none;\n",
              "      border-radius: 50%;\n",
              "      cursor: pointer;\n",
              "      display: none;\n",
              "      fill: #1967D2;\n",
              "      height: 32px;\n",
              "      padding: 0 0 0 0;\n",
              "      width: 32px;\n",
              "    }\n",
              "\n",
              "    .colab-df-convert:hover {\n",
              "      background-color: #E2EBFA;\n",
              "      box-shadow: 0px 1px 2px rgba(60, 64, 67, 0.3), 0px 1px 3px 1px rgba(60, 64, 67, 0.15);\n",
              "      fill: #174EA6;\n",
              "    }\n",
              "\n",
              "    [theme=dark] .colab-df-convert {\n",
              "      background-color: #3B4455;\n",
              "      fill: #D2E3FC;\n",
              "    }\n",
              "\n",
              "    [theme=dark] .colab-df-convert:hover {\n",
              "      background-color: #434B5C;\n",
              "      box-shadow: 0px 1px 3px 1px rgba(0, 0, 0, 0.15);\n",
              "      filter: drop-shadow(0px 1px 2px rgba(0, 0, 0, 0.3));\n",
              "      fill: #FFFFFF;\n",
              "    }\n",
              "  </style>\n",
              "\n",
              "      <script>\n",
              "        const buttonEl =\n",
              "          document.querySelector('#df-e1f129d8-460e-4a14-a4bf-109af0debf17 button.colab-df-convert');\n",
              "        buttonEl.style.display =\n",
              "          google.colab.kernel.accessAllowed ? 'block' : 'none';\n",
              "\n",
              "        async function convertToInteractive(key) {\n",
              "          const element = document.querySelector('#df-e1f129d8-460e-4a14-a4bf-109af0debf17');\n",
              "          const dataTable =\n",
              "            await google.colab.kernel.invokeFunction('convertToInteractive',\n",
              "                                                     [key], {});\n",
              "          if (!dataTable) return;\n",
              "\n",
              "          const docLinkHtml = 'Like what you see? Visit the ' +\n",
              "            '<a target=\"_blank\" href=https://colab.research.google.com/notebooks/data_table.ipynb>data table notebook</a>'\n",
              "            + ' to learn more about interactive tables.';\n",
              "          element.innerHTML = '';\n",
              "          dataTable['output_type'] = 'display_data';\n",
              "          await google.colab.output.renderOutput(dataTable, element);\n",
              "          const docLink = document.createElement('div');\n",
              "          docLink.innerHTML = docLinkHtml;\n",
              "          element.appendChild(docLink);\n",
              "        }\n",
              "      </script>\n",
              "    </div>\n",
              "  </div>\n",
              "  "
            ]
          },
          "metadata": {},
          "execution_count": 6
        }
      ],
      "source": [
        "df = pd.DataFrame(df)\n",
        "df"
      ]
    },
    {
      "cell_type": "code",
      "execution_count": null,
      "metadata": {
        "colab": {
          "base_uri": "https://localhost:8080/",
          "height": 206
        },
        "id": "FjXsB0ixZiZb",
        "outputId": "6dc8409c-0c07-410b-f66d-67bb8a5cc60b"
      },
      "outputs": [
        {
          "output_type": "execute_result",
          "data": {
            "text/plain": [
              "     user_id                       games    status  hoursplay\n",
              "0  151603712  The Elder Scrolls V Skyrim      play      273.0\n",
              "1  151603712                   Fallout 4  purchase        1.0\n",
              "2  151603712                   Fallout 4      play       87.0\n",
              "3  151603712                       Spore  purchase        1.0\n",
              "4  151603712                       Spore      play       14.9"
            ],
            "text/html": [
              "\n",
              "  <div id=\"df-d01e8490-90a9-4988-80b1-820f9b8856e5\">\n",
              "    <div class=\"colab-df-container\">\n",
              "      <div>\n",
              "<style scoped>\n",
              "    .dataframe tbody tr th:only-of-type {\n",
              "        vertical-align: middle;\n",
              "    }\n",
              "\n",
              "    .dataframe tbody tr th {\n",
              "        vertical-align: top;\n",
              "    }\n",
              "\n",
              "    .dataframe thead th {\n",
              "        text-align: right;\n",
              "    }\n",
              "</style>\n",
              "<table border=\"1\" class=\"dataframe\">\n",
              "  <thead>\n",
              "    <tr style=\"text-align: right;\">\n",
              "      <th></th>\n",
              "      <th>user_id</th>\n",
              "      <th>games</th>\n",
              "      <th>status</th>\n",
              "      <th>hoursplay</th>\n",
              "    </tr>\n",
              "  </thead>\n",
              "  <tbody>\n",
              "    <tr>\n",
              "      <th>0</th>\n",
              "      <td>151603712</td>\n",
              "      <td>The Elder Scrolls V Skyrim</td>\n",
              "      <td>play</td>\n",
              "      <td>273.0</td>\n",
              "    </tr>\n",
              "    <tr>\n",
              "      <th>1</th>\n",
              "      <td>151603712</td>\n",
              "      <td>Fallout 4</td>\n",
              "      <td>purchase</td>\n",
              "      <td>1.0</td>\n",
              "    </tr>\n",
              "    <tr>\n",
              "      <th>2</th>\n",
              "      <td>151603712</td>\n",
              "      <td>Fallout 4</td>\n",
              "      <td>play</td>\n",
              "      <td>87.0</td>\n",
              "    </tr>\n",
              "    <tr>\n",
              "      <th>3</th>\n",
              "      <td>151603712</td>\n",
              "      <td>Spore</td>\n",
              "      <td>purchase</td>\n",
              "      <td>1.0</td>\n",
              "    </tr>\n",
              "    <tr>\n",
              "      <th>4</th>\n",
              "      <td>151603712</td>\n",
              "      <td>Spore</td>\n",
              "      <td>play</td>\n",
              "      <td>14.9</td>\n",
              "    </tr>\n",
              "  </tbody>\n",
              "</table>\n",
              "</div>\n",
              "      <button class=\"colab-df-convert\" onclick=\"convertToInteractive('df-d01e8490-90a9-4988-80b1-820f9b8856e5')\"\n",
              "              title=\"Convert this dataframe to an interactive table.\"\n",
              "              style=\"display:none;\">\n",
              "        \n",
              "  <svg xmlns=\"http://www.w3.org/2000/svg\" height=\"24px\"viewBox=\"0 0 24 24\"\n",
              "       width=\"24px\">\n",
              "    <path d=\"M0 0h24v24H0V0z\" fill=\"none\"/>\n",
              "    <path d=\"M18.56 5.44l.94 2.06.94-2.06 2.06-.94-2.06-.94-.94-2.06-.94 2.06-2.06.94zm-11 1L8.5 8.5l.94-2.06 2.06-.94-2.06-.94L8.5 2.5l-.94 2.06-2.06.94zm10 10l.94 2.06.94-2.06 2.06-.94-2.06-.94-.94-2.06-.94 2.06-2.06.94z\"/><path d=\"M17.41 7.96l-1.37-1.37c-.4-.4-.92-.59-1.43-.59-.52 0-1.04.2-1.43.59L10.3 9.45l-7.72 7.72c-.78.78-.78 2.05 0 2.83L4 21.41c.39.39.9.59 1.41.59.51 0 1.02-.2 1.41-.59l7.78-7.78 2.81-2.81c.8-.78.8-2.07 0-2.86zM5.41 20L4 18.59l7.72-7.72 1.47 1.35L5.41 20z\"/>\n",
              "  </svg>\n",
              "      </button>\n",
              "      \n",
              "  <style>\n",
              "    .colab-df-container {\n",
              "      display:flex;\n",
              "      flex-wrap:wrap;\n",
              "      gap: 12px;\n",
              "    }\n",
              "\n",
              "    .colab-df-convert {\n",
              "      background-color: #E8F0FE;\n",
              "      border: none;\n",
              "      border-radius: 50%;\n",
              "      cursor: pointer;\n",
              "      display: none;\n",
              "      fill: #1967D2;\n",
              "      height: 32px;\n",
              "      padding: 0 0 0 0;\n",
              "      width: 32px;\n",
              "    }\n",
              "\n",
              "    .colab-df-convert:hover {\n",
              "      background-color: #E2EBFA;\n",
              "      box-shadow: 0px 1px 2px rgba(60, 64, 67, 0.3), 0px 1px 3px 1px rgba(60, 64, 67, 0.15);\n",
              "      fill: #174EA6;\n",
              "    }\n",
              "\n",
              "    [theme=dark] .colab-df-convert {\n",
              "      background-color: #3B4455;\n",
              "      fill: #D2E3FC;\n",
              "    }\n",
              "\n",
              "    [theme=dark] .colab-df-convert:hover {\n",
              "      background-color: #434B5C;\n",
              "      box-shadow: 0px 1px 3px 1px rgba(0, 0, 0, 0.15);\n",
              "      filter: drop-shadow(0px 1px 2px rgba(0, 0, 0, 0.3));\n",
              "      fill: #FFFFFF;\n",
              "    }\n",
              "  </style>\n",
              "\n",
              "      <script>\n",
              "        const buttonEl =\n",
              "          document.querySelector('#df-d01e8490-90a9-4988-80b1-820f9b8856e5 button.colab-df-convert');\n",
              "        buttonEl.style.display =\n",
              "          google.colab.kernel.accessAllowed ? 'block' : 'none';\n",
              "\n",
              "        async function convertToInteractive(key) {\n",
              "          const element = document.querySelector('#df-d01e8490-90a9-4988-80b1-820f9b8856e5');\n",
              "          const dataTable =\n",
              "            await google.colab.kernel.invokeFunction('convertToInteractive',\n",
              "                                                     [key], {});\n",
              "          if (!dataTable) return;\n",
              "\n",
              "          const docLinkHtml = 'Like what you see? Visit the ' +\n",
              "            '<a target=\"_blank\" href=https://colab.research.google.com/notebooks/data_table.ipynb>data table notebook</a>'\n",
              "            + ' to learn more about interactive tables.';\n",
              "          element.innerHTML = '';\n",
              "          dataTable['output_type'] = 'display_data';\n",
              "          await google.colab.output.renderOutput(dataTable, element);\n",
              "          const docLink = document.createElement('div');\n",
              "          docLink.innerHTML = docLinkHtml;\n",
              "          element.appendChild(docLink);\n",
              "        }\n",
              "      </script>\n",
              "    </div>\n",
              "  </div>\n",
              "  "
            ]
          },
          "metadata": {},
          "execution_count": 7
        }
      ],
      "source": [
        "#drop 0 column\n",
        "df = df.drop(['0'],axis=1)\n",
        "df.head()"
      ]
    },
    {
      "cell_type": "code",
      "source": [
        "#drop duplicate user_id and games keep the last one\n",
        "df.drop_duplicates(subset=['user_id','games'],keep='last')"
      ],
      "metadata": {
        "colab": {
          "base_uri": "https://localhost:8080/",
          "height": 424
        },
        "id": "TLceVoeUU6zV",
        "outputId": "6cfcc800-1f6e-48be-f841-edd27d743d68"
      },
      "execution_count": null,
      "outputs": [
        {
          "output_type": "execute_result",
          "data": {
            "text/plain": [
              "          user_id                       games status  hoursplay\n",
              "0       151603712  The Elder Scrolls V Skyrim   play      273.0\n",
              "2       151603712                   Fallout 4   play       87.0\n",
              "4       151603712                       Spore   play       14.9\n",
              "6       151603712           Fallout New Vegas   play       12.1\n",
              "8       151603712               Left 4 Dead 2   play        8.9\n",
              "...           ...                         ...    ...        ...\n",
              "199990  128470551                Fallen Earth   play        2.4\n",
              "199992  128470551                 Magic Duels   play        2.2\n",
              "199994  128470551                 Titan Souls   play        1.5\n",
              "199996  128470551  Grand Theft Auto Vice City   play        1.5\n",
              "199998  128470551                        RUSH   play        1.4\n",
              "\n",
              "[128804 rows x 4 columns]"
            ],
            "text/html": [
              "\n",
              "  <div id=\"df-82420efa-2526-4fe2-83a6-c21558f7ba14\">\n",
              "    <div class=\"colab-df-container\">\n",
              "      <div>\n",
              "<style scoped>\n",
              "    .dataframe tbody tr th:only-of-type {\n",
              "        vertical-align: middle;\n",
              "    }\n",
              "\n",
              "    .dataframe tbody tr th {\n",
              "        vertical-align: top;\n",
              "    }\n",
              "\n",
              "    .dataframe thead th {\n",
              "        text-align: right;\n",
              "    }\n",
              "</style>\n",
              "<table border=\"1\" class=\"dataframe\">\n",
              "  <thead>\n",
              "    <tr style=\"text-align: right;\">\n",
              "      <th></th>\n",
              "      <th>user_id</th>\n",
              "      <th>games</th>\n",
              "      <th>status</th>\n",
              "      <th>hoursplay</th>\n",
              "    </tr>\n",
              "  </thead>\n",
              "  <tbody>\n",
              "    <tr>\n",
              "      <th>0</th>\n",
              "      <td>151603712</td>\n",
              "      <td>The Elder Scrolls V Skyrim</td>\n",
              "      <td>play</td>\n",
              "      <td>273.0</td>\n",
              "    </tr>\n",
              "    <tr>\n",
              "      <th>2</th>\n",
              "      <td>151603712</td>\n",
              "      <td>Fallout 4</td>\n",
              "      <td>play</td>\n",
              "      <td>87.0</td>\n",
              "    </tr>\n",
              "    <tr>\n",
              "      <th>4</th>\n",
              "      <td>151603712</td>\n",
              "      <td>Spore</td>\n",
              "      <td>play</td>\n",
              "      <td>14.9</td>\n",
              "    </tr>\n",
              "    <tr>\n",
              "      <th>6</th>\n",
              "      <td>151603712</td>\n",
              "      <td>Fallout New Vegas</td>\n",
              "      <td>play</td>\n",
              "      <td>12.1</td>\n",
              "    </tr>\n",
              "    <tr>\n",
              "      <th>8</th>\n",
              "      <td>151603712</td>\n",
              "      <td>Left 4 Dead 2</td>\n",
              "      <td>play</td>\n",
              "      <td>8.9</td>\n",
              "    </tr>\n",
              "    <tr>\n",
              "      <th>...</th>\n",
              "      <td>...</td>\n",
              "      <td>...</td>\n",
              "      <td>...</td>\n",
              "      <td>...</td>\n",
              "    </tr>\n",
              "    <tr>\n",
              "      <th>199990</th>\n",
              "      <td>128470551</td>\n",
              "      <td>Fallen Earth</td>\n",
              "      <td>play</td>\n",
              "      <td>2.4</td>\n",
              "    </tr>\n",
              "    <tr>\n",
              "      <th>199992</th>\n",
              "      <td>128470551</td>\n",
              "      <td>Magic Duels</td>\n",
              "      <td>play</td>\n",
              "      <td>2.2</td>\n",
              "    </tr>\n",
              "    <tr>\n",
              "      <th>199994</th>\n",
              "      <td>128470551</td>\n",
              "      <td>Titan Souls</td>\n",
              "      <td>play</td>\n",
              "      <td>1.5</td>\n",
              "    </tr>\n",
              "    <tr>\n",
              "      <th>199996</th>\n",
              "      <td>128470551</td>\n",
              "      <td>Grand Theft Auto Vice City</td>\n",
              "      <td>play</td>\n",
              "      <td>1.5</td>\n",
              "    </tr>\n",
              "    <tr>\n",
              "      <th>199998</th>\n",
              "      <td>128470551</td>\n",
              "      <td>RUSH</td>\n",
              "      <td>play</td>\n",
              "      <td>1.4</td>\n",
              "    </tr>\n",
              "  </tbody>\n",
              "</table>\n",
              "<p>128804 rows × 4 columns</p>\n",
              "</div>\n",
              "      <button class=\"colab-df-convert\" onclick=\"convertToInteractive('df-82420efa-2526-4fe2-83a6-c21558f7ba14')\"\n",
              "              title=\"Convert this dataframe to an interactive table.\"\n",
              "              style=\"display:none;\">\n",
              "        \n",
              "  <svg xmlns=\"http://www.w3.org/2000/svg\" height=\"24px\"viewBox=\"0 0 24 24\"\n",
              "       width=\"24px\">\n",
              "    <path d=\"M0 0h24v24H0V0z\" fill=\"none\"/>\n",
              "    <path d=\"M18.56 5.44l.94 2.06.94-2.06 2.06-.94-2.06-.94-.94-2.06-.94 2.06-2.06.94zm-11 1L8.5 8.5l.94-2.06 2.06-.94-2.06-.94L8.5 2.5l-.94 2.06-2.06.94zm10 10l.94 2.06.94-2.06 2.06-.94-2.06-.94-.94-2.06-.94 2.06-2.06.94z\"/><path d=\"M17.41 7.96l-1.37-1.37c-.4-.4-.92-.59-1.43-.59-.52 0-1.04.2-1.43.59L10.3 9.45l-7.72 7.72c-.78.78-.78 2.05 0 2.83L4 21.41c.39.39.9.59 1.41.59.51 0 1.02-.2 1.41-.59l7.78-7.78 2.81-2.81c.8-.78.8-2.07 0-2.86zM5.41 20L4 18.59l7.72-7.72 1.47 1.35L5.41 20z\"/>\n",
              "  </svg>\n",
              "      </button>\n",
              "      \n",
              "  <style>\n",
              "    .colab-df-container {\n",
              "      display:flex;\n",
              "      flex-wrap:wrap;\n",
              "      gap: 12px;\n",
              "    }\n",
              "\n",
              "    .colab-df-convert {\n",
              "      background-color: #E8F0FE;\n",
              "      border: none;\n",
              "      border-radius: 50%;\n",
              "      cursor: pointer;\n",
              "      display: none;\n",
              "      fill: #1967D2;\n",
              "      height: 32px;\n",
              "      padding: 0 0 0 0;\n",
              "      width: 32px;\n",
              "    }\n",
              "\n",
              "    .colab-df-convert:hover {\n",
              "      background-color: #E2EBFA;\n",
              "      box-shadow: 0px 1px 2px rgba(60, 64, 67, 0.3), 0px 1px 3px 1px rgba(60, 64, 67, 0.15);\n",
              "      fill: #174EA6;\n",
              "    }\n",
              "\n",
              "    [theme=dark] .colab-df-convert {\n",
              "      background-color: #3B4455;\n",
              "      fill: #D2E3FC;\n",
              "    }\n",
              "\n",
              "    [theme=dark] .colab-df-convert:hover {\n",
              "      background-color: #434B5C;\n",
              "      box-shadow: 0px 1px 3px 1px rgba(0, 0, 0, 0.15);\n",
              "      filter: drop-shadow(0px 1px 2px rgba(0, 0, 0, 0.3));\n",
              "      fill: #FFFFFF;\n",
              "    }\n",
              "  </style>\n",
              "\n",
              "      <script>\n",
              "        const buttonEl =\n",
              "          document.querySelector('#df-82420efa-2526-4fe2-83a6-c21558f7ba14 button.colab-df-convert');\n",
              "        buttonEl.style.display =\n",
              "          google.colab.kernel.accessAllowed ? 'block' : 'none';\n",
              "\n",
              "        async function convertToInteractive(key) {\n",
              "          const element = document.querySelector('#df-82420efa-2526-4fe2-83a6-c21558f7ba14');\n",
              "          const dataTable =\n",
              "            await google.colab.kernel.invokeFunction('convertToInteractive',\n",
              "                                                     [key], {});\n",
              "          if (!dataTable) return;\n",
              "\n",
              "          const docLinkHtml = 'Like what you see? Visit the ' +\n",
              "            '<a target=\"_blank\" href=https://colab.research.google.com/notebooks/data_table.ipynb>data table notebook</a>'\n",
              "            + ' to learn more about interactive tables.';\n",
              "          element.innerHTML = '';\n",
              "          dataTable['output_type'] = 'display_data';\n",
              "          await google.colab.output.renderOutput(dataTable, element);\n",
              "          const docLink = document.createElement('div');\n",
              "          docLink.innerHTML = docLinkHtml;\n",
              "          element.appendChild(docLink);\n",
              "        }\n",
              "      </script>\n",
              "    </div>\n",
              "  </div>\n",
              "  "
            ]
          },
          "metadata": {},
          "execution_count": 8
        }
      ]
    },
    {
      "cell_type": "code",
      "execution_count": null,
      "metadata": {
        "colab": {
          "base_uri": "https://localhost:8080/"
        },
        "id": "GKdK4DCiv9k8",
        "outputId": "f1a59e1a-a9c2-4ca6-854c-6a703d7ad781"
      },
      "outputs": [
        {
          "output_type": "execute_result",
          "data": {
            "text/plain": [
              "(199999, 4)"
            ]
          },
          "metadata": {},
          "execution_count": 10
        }
      ],
      "source": [
        "#check the shape of the dataset\n",
        "df.shape"
      ]
    },
    {
      "cell_type": "code",
      "execution_count": null,
      "metadata": {
        "colab": {
          "base_uri": "https://localhost:8080/"
        },
        "id": "cFWsJSFav9jQ",
        "outputId": "0a6f4df1-2443-4c6e-8c97-ad1beeaa7438"
      },
      "outputs": [
        {
          "output_type": "execute_result",
          "data": {
            "text/plain": [
              "Index(['user_id', 'games', 'status', 'hoursplay'], dtype='object')"
            ]
          },
          "metadata": {},
          "execution_count": 11
        }
      ],
      "source": [
        "#check columns of the dataset\n",
        "df.columns"
      ]
    },
    {
      "cell_type": "code",
      "execution_count": null,
      "metadata": {
        "colab": {
          "base_uri": "https://localhost:8080/"
        },
        "id": "cfmQuScuv9gu",
        "outputId": "f415ec2c-eb31-4b59-ce69-e9d47f93c653"
      },
      "outputs": [
        {
          "output_type": "stream",
          "name": "stdout",
          "text": [
            "<class 'pandas.core.frame.DataFrame'>\n",
            "RangeIndex: 199999 entries, 0 to 199998\n",
            "Data columns (total 4 columns):\n",
            " #   Column     Non-Null Count   Dtype  \n",
            "---  ------     --------------   -----  \n",
            " 0   user_id    199999 non-null  int64  \n",
            " 1   games      199999 non-null  object \n",
            " 2   status     199999 non-null  object \n",
            " 3   hoursplay  199999 non-null  float64\n",
            "dtypes: float64(1), int64(1), object(2)\n",
            "memory usage: 6.1+ MB\n"
          ]
        }
      ],
      "source": [
        "# Check which columns are having categorical, numerical or boolean values of dataset\n",
        "df.info()"
      ]
    },
    {
      "cell_type": "code",
      "execution_count": null,
      "metadata": {
        "colab": {
          "base_uri": "https://localhost:8080/"
        },
        "id": "4SAr4k5Wv9eS",
        "outputId": "b1a433ae-158e-4239-83c7-455c25c6011d"
      },
      "outputs": [
        {
          "output_type": "execute_result",
          "data": {
            "text/plain": [
              "user_id      0\n",
              "games        0\n",
              "status       0\n",
              "hoursplay    0\n",
              "dtype: int64"
            ]
          },
          "metadata": {},
          "execution_count": 13
        }
      ],
      "source": [
        "# Check for missing values in all the columnns of the train_dataset\n",
        "df.isnull().sum()"
      ]
    },
    {
      "cell_type": "code",
      "execution_count": null,
      "metadata": {
        "colab": {
          "base_uri": "https://localhost:8080/"
        },
        "id": "fGOiyPTkv9cC",
        "outputId": "57ab6f62-b7a9-4c1f-8a62-8ea89145bca3"
      },
      "outputs": [
        {
          "output_type": "execute_result",
          "data": {
            "text/plain": [
              "user_id      12393\n",
              "games         5155\n",
              "status           2\n",
              "hoursplay     1593\n",
              "dtype: int64"
            ]
          },
          "metadata": {},
          "execution_count": 14
        }
      ],
      "source": [
        "# get how many unique values are in games column of dataset\n",
        "df.nunique()"
      ]
    },
    {
      "cell_type": "code",
      "execution_count": null,
      "metadata": {
        "colab": {
          "base_uri": "https://localhost:8080/"
        },
        "id": "QgE7Fw_Nv9aA",
        "outputId": "914f3fdf-0ea1-4a65-a068-28c7e434e42e"
      },
      "outputs": [
        {
          "output_type": "execute_result",
          "data": {
            "text/plain": [
              "purchase    129510\n",
              "play         70489\n",
              "Name: status, dtype: int64"
            ]
          },
          "metadata": {},
          "execution_count": 15
        }
      ],
      "source": [
        "# get the total count of play and total count of purchase\n",
        "df['status'].value_counts()"
      ]
    },
    {
      "cell_type": "code",
      "execution_count": null,
      "metadata": {
        "colab": {
          "base_uri": "https://localhost:8080/",
          "height": 301
        },
        "id": "1VxaHrDfv9Wo",
        "outputId": "bb8b5b59-bc43-41d3-8324-bd4d0f196f4c"
      },
      "outputs": [
        {
          "output_type": "execute_result",
          "data": {
            "text/plain": [
              "            user_id      hoursplay\n",
              "count  1.999990e+05  199999.000000\n",
              "mean   1.036556e+08      17.874468\n",
              "std    7.208084e+07     138.057292\n",
              "min    5.250000e+03       0.100000\n",
              "25%    4.738420e+07       1.000000\n",
              "50%    8.691201e+07       1.000000\n",
              "75%    1.542309e+08       1.300000\n",
              "max    3.099031e+08   11754.000000"
            ],
            "text/html": [
              "\n",
              "  <div id=\"df-e703011c-c368-40e2-8b06-32ffd6a4ec53\">\n",
              "    <div class=\"colab-df-container\">\n",
              "      <div>\n",
              "<style scoped>\n",
              "    .dataframe tbody tr th:only-of-type {\n",
              "        vertical-align: middle;\n",
              "    }\n",
              "\n",
              "    .dataframe tbody tr th {\n",
              "        vertical-align: top;\n",
              "    }\n",
              "\n",
              "    .dataframe thead th {\n",
              "        text-align: right;\n",
              "    }\n",
              "</style>\n",
              "<table border=\"1\" class=\"dataframe\">\n",
              "  <thead>\n",
              "    <tr style=\"text-align: right;\">\n",
              "      <th></th>\n",
              "      <th>user_id</th>\n",
              "      <th>hoursplay</th>\n",
              "    </tr>\n",
              "  </thead>\n",
              "  <tbody>\n",
              "    <tr>\n",
              "      <th>count</th>\n",
              "      <td>1.999990e+05</td>\n",
              "      <td>199999.000000</td>\n",
              "    </tr>\n",
              "    <tr>\n",
              "      <th>mean</th>\n",
              "      <td>1.036556e+08</td>\n",
              "      <td>17.874468</td>\n",
              "    </tr>\n",
              "    <tr>\n",
              "      <th>std</th>\n",
              "      <td>7.208084e+07</td>\n",
              "      <td>138.057292</td>\n",
              "    </tr>\n",
              "    <tr>\n",
              "      <th>min</th>\n",
              "      <td>5.250000e+03</td>\n",
              "      <td>0.100000</td>\n",
              "    </tr>\n",
              "    <tr>\n",
              "      <th>25%</th>\n",
              "      <td>4.738420e+07</td>\n",
              "      <td>1.000000</td>\n",
              "    </tr>\n",
              "    <tr>\n",
              "      <th>50%</th>\n",
              "      <td>8.691201e+07</td>\n",
              "      <td>1.000000</td>\n",
              "    </tr>\n",
              "    <tr>\n",
              "      <th>75%</th>\n",
              "      <td>1.542309e+08</td>\n",
              "      <td>1.300000</td>\n",
              "    </tr>\n",
              "    <tr>\n",
              "      <th>max</th>\n",
              "      <td>3.099031e+08</td>\n",
              "      <td>11754.000000</td>\n",
              "    </tr>\n",
              "  </tbody>\n",
              "</table>\n",
              "</div>\n",
              "      <button class=\"colab-df-convert\" onclick=\"convertToInteractive('df-e703011c-c368-40e2-8b06-32ffd6a4ec53')\"\n",
              "              title=\"Convert this dataframe to an interactive table.\"\n",
              "              style=\"display:none;\">\n",
              "        \n",
              "  <svg xmlns=\"http://www.w3.org/2000/svg\" height=\"24px\"viewBox=\"0 0 24 24\"\n",
              "       width=\"24px\">\n",
              "    <path d=\"M0 0h24v24H0V0z\" fill=\"none\"/>\n",
              "    <path d=\"M18.56 5.44l.94 2.06.94-2.06 2.06-.94-2.06-.94-.94-2.06-.94 2.06-2.06.94zm-11 1L8.5 8.5l.94-2.06 2.06-.94-2.06-.94L8.5 2.5l-.94 2.06-2.06.94zm10 10l.94 2.06.94-2.06 2.06-.94-2.06-.94-.94-2.06-.94 2.06-2.06.94z\"/><path d=\"M17.41 7.96l-1.37-1.37c-.4-.4-.92-.59-1.43-.59-.52 0-1.04.2-1.43.59L10.3 9.45l-7.72 7.72c-.78.78-.78 2.05 0 2.83L4 21.41c.39.39.9.59 1.41.59.51 0 1.02-.2 1.41-.59l7.78-7.78 2.81-2.81c.8-.78.8-2.07 0-2.86zM5.41 20L4 18.59l7.72-7.72 1.47 1.35L5.41 20z\"/>\n",
              "  </svg>\n",
              "      </button>\n",
              "      \n",
              "  <style>\n",
              "    .colab-df-container {\n",
              "      display:flex;\n",
              "      flex-wrap:wrap;\n",
              "      gap: 12px;\n",
              "    }\n",
              "\n",
              "    .colab-df-convert {\n",
              "      background-color: #E8F0FE;\n",
              "      border: none;\n",
              "      border-radius: 50%;\n",
              "      cursor: pointer;\n",
              "      display: none;\n",
              "      fill: #1967D2;\n",
              "      height: 32px;\n",
              "      padding: 0 0 0 0;\n",
              "      width: 32px;\n",
              "    }\n",
              "\n",
              "    .colab-df-convert:hover {\n",
              "      background-color: #E2EBFA;\n",
              "      box-shadow: 0px 1px 2px rgba(60, 64, 67, 0.3), 0px 1px 3px 1px rgba(60, 64, 67, 0.15);\n",
              "      fill: #174EA6;\n",
              "    }\n",
              "\n",
              "    [theme=dark] .colab-df-convert {\n",
              "      background-color: #3B4455;\n",
              "      fill: #D2E3FC;\n",
              "    }\n",
              "\n",
              "    [theme=dark] .colab-df-convert:hover {\n",
              "      background-color: #434B5C;\n",
              "      box-shadow: 0px 1px 3px 1px rgba(0, 0, 0, 0.15);\n",
              "      filter: drop-shadow(0px 1px 2px rgba(0, 0, 0, 0.3));\n",
              "      fill: #FFFFFF;\n",
              "    }\n",
              "  </style>\n",
              "\n",
              "      <script>\n",
              "        const buttonEl =\n",
              "          document.querySelector('#df-e703011c-c368-40e2-8b06-32ffd6a4ec53 button.colab-df-convert');\n",
              "        buttonEl.style.display =\n",
              "          google.colab.kernel.accessAllowed ? 'block' : 'none';\n",
              "\n",
              "        async function convertToInteractive(key) {\n",
              "          const element = document.querySelector('#df-e703011c-c368-40e2-8b06-32ffd6a4ec53');\n",
              "          const dataTable =\n",
              "            await google.colab.kernel.invokeFunction('convertToInteractive',\n",
              "                                                     [key], {});\n",
              "          if (!dataTable) return;\n",
              "\n",
              "          const docLinkHtml = 'Like what you see? Visit the ' +\n",
              "            '<a target=\"_blank\" href=https://colab.research.google.com/notebooks/data_table.ipynb>data table notebook</a>'\n",
              "            + ' to learn more about interactive tables.';\n",
              "          element.innerHTML = '';\n",
              "          dataTable['output_type'] = 'display_data';\n",
              "          await google.colab.output.renderOutput(dataTable, element);\n",
              "          const docLink = document.createElement('div');\n",
              "          docLink.innerHTML = docLinkHtml;\n",
              "          element.appendChild(docLink);\n",
              "        }\n",
              "      </script>\n",
              "    </div>\n",
              "  </div>\n",
              "  "
            ]
          },
          "metadata": {},
          "execution_count": 16
        }
      ],
      "source": [
        "# For more information on the dataset like the total count in all the columns\n",
        "# min, max values and more information of the respective columns  \n",
        "df.describe()"
      ]
    },
    {
      "cell_type": "markdown",
      "metadata": {
        "id": "3CgbroNkKA5F"
      },
      "source": [
        "## visualizing data"
      ]
    },
    {
      "cell_type": "code",
      "execution_count": null,
      "metadata": {
        "colab": {
          "base_uri": "https://localhost:8080/",
          "height": 673
        },
        "id": "5OuxsDTIv9VK",
        "outputId": "2f87a465-9a20-49a6-fc96-16538fbb38cf"
      },
      "outputs": [
        {
          "output_type": "execute_result",
          "data": {
            "text/plain": [
              "array([[<matplotlib.axes._subplots.AxesSubplot object at 0x7f2db6f33e90>,\n",
              "        <matplotlib.axes._subplots.AxesSubplot object at 0x7f2db6f2b910>]],\n",
              "      dtype=object)"
            ]
          },
          "metadata": {},
          "execution_count": 17
        },
        {
          "output_type": "display_data",
          "data": {
            "text/plain": [
              "<Figure size 1080x720 with 2 Axes>"
            ],
            "image/png": "[encoded data removed]"
          },
          "metadata": {
            "needs_background": "light"
          }
        }
      ],
      "source": [
        "# Histogram using pandas \n",
        "df.hist(figsize=(15,10))"
      ]
    },
    {
      "cell_type": "code",
      "execution_count": null,
      "metadata": {
        "colab": {
          "base_uri": "https://localhost:8080/",
          "height": 282
        },
        "id": "8XQcDkwiv9Rx",
        "outputId": "9ccc5382-9b79-48f3-a16c-fe885a59545b"
      },
      "outputs": [
        {
          "output_type": "execute_result",
          "data": {
            "text/plain": [
              "<matplotlib.axes._subplots.AxesSubplot at 0x7f2db6d2e350>"
            ]
          },
          "metadata": {},
          "execution_count": 18
        },
        {
          "output_type": "display_data",
          "data": {
            "text/plain": [
              "<Figure size 432x288 with 1 Axes>"
            ],
            "image/png": "[encoded data removed]"
          },
          "metadata": {
            "needs_background": "light"
          }
        }
      ],
      "source": [
        "# plot a horizontal bar plot of column status\n",
        "df['status'].value_counts().plot(kind='barh')"
      ]
    },
    {
      "cell_type": "code",
      "execution_count": null,
      "metadata": {
        "colab": {
          "base_uri": "https://localhost:8080/",
          "height": 282
        },
        "id": "o45Z0Ngav9Mt",
        "outputId": "21c0539a-b1c1-4ee5-f02f-5d0230c4c8b0"
      },
      "outputs": [
        {
          "output_type": "execute_result",
          "data": {
            "text/plain": [
              "<matplotlib.axes._subplots.AxesSubplot at 0x7f2db6874710>"
            ]
          },
          "metadata": {},
          "execution_count": 19
        },
        {
          "output_type": "display_data",
          "data": {
            "text/plain": [
              "<Figure size 432x288 with 1 Axes>"
            ],
            "image/png": "[encoded data removed]"
          },
          "metadata": {
            "needs_background": "light"
          }
        }
      ],
      "source": [
        "#plot a count plot of hoursplay column\n",
        "df['hoursplay'].plot()"
      ]
    },
    {
      "cell_type": "code",
      "execution_count": null,
      "metadata": {
        "colab": {
          "base_uri": "https://localhost:8080/",
          "height": 337
        },
        "id": "e2ddFJDbv9La",
        "outputId": "ca644714-bfca-4ee4-cf74-60c95f9d21da"
      },
      "outputs": [
        {
          "output_type": "execute_result",
          "data": {
            "text/plain": [
              "<matplotlib.axes._subplots.AxesSubplot at 0x7f2db6701510>"
            ]
          },
          "metadata": {},
          "execution_count": 22
        },
        {
          "output_type": "display_data",
          "data": {
            "text/plain": [
              "<Figure size 720x360 with 1 Axes>"
            ],
            "image/png": "[encoded data removed]"
          },
          "metadata": {
            "needs_background": "light"
          }
        }
      ],
      "source": [
        "# plot a horizontal bar plot of games column for top 30 games\n",
        "\n",
        "df['games'].value_counts().head(30).plot(kind='barh', figsize=(10,5))\n"
      ]
    },
    {
      "cell_type": "code",
      "execution_count": null,
      "metadata": {
        "colab": {
          "base_uri": "https://localhost:8080/",
          "height": 296
        },
        "id": "eZUuyLejv9IQ",
        "outputId": "544c2d8f-b33c-43ea-ea8b-6341d0ccbfb3"
      },
      "outputs": [
        {
          "output_type": "execute_result",
          "data": {
            "text/plain": [
              "<matplotlib.axes._subplots.AxesSubplot at 0x7f2db67922d0>"
            ]
          },
          "metadata": {},
          "execution_count": 21
        },
        {
          "output_type": "display_data",
          "data": {
            "text/plain": [
              "<Figure size 432x288 with 1 Axes>"
            ],
            "image/png": "[encoded data removed]"
          },
          "metadata": {
            "needs_background": "light"
          }
        }
      ],
      "source": [
        "# plot a boxplot of status as x-axis and hoursplay as y-axis\n",
        "sns.boxplot(x='status',y='hoursplay',data = df)"
      ]
    },
    {
      "cell_type": "markdown",
      "metadata": {
        "id": "oLP2qFAMvcK8"
      },
      "source": [
        "# converting hours to rating"
      ]
    },
    {
      "cell_type": "code",
      "execution_count": null,
      "metadata": {
        "colab": {
          "base_uri": "https://localhost:8080/",
          "height": 528
        },
        "id": "eiGi1BNMZiT2",
        "outputId": "83677972-ad62-437f-dfd7-bd25a592f6bd"
      },
      "outputs": [
        {
          "output_type": "stream",
          "name": "stderr",
          "text": [
            "/usr/local/lib/python3.7/dist-packages/ipykernel_launcher.py:7: SettingWithCopyWarning: \n",
            "A value is trying to be set on a copy of a slice from a DataFrame.\n",
            "Try using .loc[row_indexer,col_indexer] = value instead\n",
            "\n",
            "See the caveats in the documentation: https://pandas.pydata.org/pandas-docs/stable/user_guide/indexing.html#returning-a-view-versus-a-copy\n",
            "  import sys\n"
          ]
        },
        {
          "output_type": "execute_result",
          "data": {
            "text/plain": [
              "         user_id                                    games status  hoursplay  \\\n",
              "0      151603712               The Elder Scrolls V Skyrim   play      273.0   \n",
              "1       59945701               The Elder Scrolls V Skyrim   play       58.0   \n",
              "2       92107940               The Elder Scrolls V Skyrim   play      110.0   \n",
              "3      250006052               The Elder Scrolls V Skyrim   play      465.0   \n",
              "4       11373749               The Elder Scrolls V Skyrim   play      220.0   \n",
              "...          ...                                      ...    ...        ...   \n",
              "36540   51822361  Warhammer 40,000 Dawn of War  Soulstorm   play       23.0   \n",
              "36541   38317154  Warhammer 40,000 Dawn of War  Soulstorm   play        5.5   \n",
              "36542   36404933  Warhammer 40,000 Dawn of War  Soulstorm   play        5.8   \n",
              "36543   87201181  Warhammer 40,000 Dawn of War  Soulstorm   play       24.0   \n",
              "36544   34901647  Warhammer 40,000 Dawn of War  Soulstorm   play       15.4   \n",
              "\n",
              "       avg_hoursplay  rating  \n",
              "0         115.351792       5  \n",
              "1         115.351792       3  \n",
              "2         115.351792       5  \n",
              "3         115.351792       5  \n",
              "4         115.351792       5  \n",
              "...              ...     ...  \n",
              "36540      14.109091       5  \n",
              "36541      14.109091       2  \n",
              "36542      14.109091       3  \n",
              "36543      14.109091       5  \n",
              "36544      14.109091       5  \n",
              "\n",
              "[36545 rows x 6 columns]"
            ],
            "text/html": [
              "\n",
              "  <div id=\"df-074337b1-5a9b-4962-b0cd-fd4cbc89b256\">\n",
              "    <div class=\"colab-df-container\">\n",
              "      <div>\n",
              "<style scoped>\n",
              "    .dataframe tbody tr th:only-of-type {\n",
              "        vertical-align: middle;\n",
              "    }\n",
              "\n",
              "    .dataframe tbody tr th {\n",
              "        vertical-align: top;\n",
              "    }\n",
              "\n",
              "    .dataframe thead th {\n",
              "        text-align: right;\n",
              "    }\n",
              "</style>\n",
              "<table border=\"1\" class=\"dataframe\">\n",
              "  <thead>\n",
              "    <tr style=\"text-align: right;\">\n",
              "      <th></th>\n",
              "      <th>user_id</th>\n",
              "      <th>games</th>\n",
              "      <th>status</th>\n",
              "      <th>hoursplay</th>\n",
              "      <th>avg_hoursplay</th>\n",
              "      <th>rating</th>\n",
              "    </tr>\n",
              "  </thead>\n",
              "  <tbody>\n",
              "    <tr>\n",
              "      <th>0</th>\n",
              "      <td>151603712</td>\n",
              "      <td>The Elder Scrolls V Skyrim</td>\n",
              "      <td>play</td>\n",
              "      <td>273.0</td>\n",
              "      <td>115.351792</td>\n",
              "      <td>5</td>\n",
              "    </tr>\n",
              "    <tr>\n",
              "      <th>1</th>\n",
              "      <td>59945701</td>\n",
              "      <td>The Elder Scrolls V Skyrim</td>\n",
              "      <td>play</td>\n",
              "      <td>58.0</td>\n",
              "      <td>115.351792</td>\n",
              "      <td>3</td>\n",
              "    </tr>\n",
              "    <tr>\n",
              "      <th>2</th>\n",
              "      <td>92107940</td>\n",
              "      <td>The Elder Scrolls V Skyrim</td>\n",
              "      <td>play</td>\n",
              "      <td>110.0</td>\n",
              "      <td>115.351792</td>\n",
              "      <td>5</td>\n",
              "    </tr>\n",
              "    <tr>\n",
              "      <th>3</th>\n",
              "      <td>250006052</td>\n",
              "      <td>The Elder Scrolls V Skyrim</td>\n",
              "      <td>play</td>\n",
              "      <td>465.0</td>\n",
              "      <td>115.351792</td>\n",
              "      <td>5</td>\n",
              "    </tr>\n",
              "    <tr>\n",
              "      <th>4</th>\n",
              "      <td>11373749</td>\n",
              "      <td>The Elder Scrolls V Skyrim</td>\n",
              "      <td>play</td>\n",
              "      <td>220.0</td>\n",
              "      <td>115.351792</td>\n",
              "      <td>5</td>\n",
              "    </tr>\n",
              "    <tr>\n",
              "      <th>...</th>\n",
              "      <td>...</td>\n",
              "      <td>...</td>\n",
              "      <td>...</td>\n",
              "      <td>...</td>\n",
              "      <td>...</td>\n",
              "      <td>...</td>\n",
              "    </tr>\n",
              "    <tr>\n",
              "      <th>36540</th>\n",
              "      <td>51822361</td>\n",
              "      <td>Warhammer 40,000 Dawn of War  Soulstorm</td>\n",
              "      <td>play</td>\n",
              "      <td>23.0</td>\n",
              "      <td>14.109091</td>\n",
              "      <td>5</td>\n",
              "    </tr>\n",
              "    <tr>\n",
              "      <th>36541</th>\n",
              "      <td>38317154</td>\n",
              "      <td>Warhammer 40,000 Dawn of War  Soulstorm</td>\n",
              "      <td>play</td>\n",
              "      <td>5.5</td>\n",
              "      <td>14.109091</td>\n",
              "      <td>2</td>\n",
              "    </tr>\n",
              "    <tr>\n",
              "      <th>36542</th>\n",
              "      <td>36404933</td>\n",
              "      <td>Warhammer 40,000 Dawn of War  Soulstorm</td>\n",
              "      <td>play</td>\n",
              "      <td>5.8</td>\n",
              "      <td>14.109091</td>\n",
              "      <td>3</td>\n",
              "    </tr>\n",
              "    <tr>\n",
              "      <th>36543</th>\n",
              "      <td>87201181</td>\n",
              "      <td>Warhammer 40,000 Dawn of War  Soulstorm</td>\n",
              "      <td>play</td>\n",
              "      <td>24.0</td>\n",
              "      <td>14.109091</td>\n",
              "      <td>5</td>\n",
              "    </tr>\n",
              "    <tr>\n",
              "      <th>36544</th>\n",
              "      <td>34901647</td>\n",
              "      <td>Warhammer 40,000 Dawn of War  Soulstorm</td>\n",
              "      <td>play</td>\n",
              "      <td>15.4</td>\n",
              "      <td>14.109091</td>\n",
              "      <td>5</td>\n",
              "    </tr>\n",
              "  </tbody>\n",
              "</table>\n",
              "<p>36545 rows × 6 columns</p>\n",
              "</div>\n",
              "      <button class=\"colab-df-convert\" onclick=\"convertToInteractive('df-074337b1-5a9b-4962-b0cd-fd4cbc89b256')\"\n",
              "              title=\"Convert this dataframe to an interactive table.\"\n",
              "              style=\"display:none;\">\n",
              "        \n",
              "  <svg xmlns=\"http://www.w3.org/2000/svg\" height=\"24px\"viewBox=\"0 0 24 24\"\n",
              "       width=\"24px\">\n",
              "    <path d=\"M0 0h24v24H0V0z\" fill=\"none\"/>\n",
              "    <path d=\"M18.56 5.44l.94 2.06.94-2.06 2.06-.94-2.06-.94-.94-2.06-.94 2.06-2.06.94zm-11 1L8.5 8.5l.94-2.06 2.06-.94-2.06-.94L8.5 2.5l-.94 2.06-2.06.94zm10 10l.94 2.06.94-2.06 2.06-.94-2.06-.94-.94-2.06-.94 2.06-2.06.94z\"/><path d=\"M17.41 7.96l-1.37-1.37c-.4-.4-.92-.59-1.43-.59-.52 0-1.04.2-1.43.59L10.3 9.45l-7.72 7.72c-.78.78-.78 2.05 0 2.83L4 21.41c.39.39.9.59 1.41.59.51 0 1.02-.2 1.41-.59l7.78-7.78 2.81-2.81c.8-.78.8-2.07 0-2.86zM5.41 20L4 18.59l7.72-7.72 1.47 1.35L5.41 20z\"/>\n",
              "  </svg>\n",
              "      </button>\n",
              "      \n",
              "  <style>\n",
              "    .colab-df-container {\n",
              "      display:flex;\n",
              "      flex-wrap:wrap;\n",
              "      gap: 12px;\n",
              "    }\n",
              "\n",
              "    .colab-df-convert {\n",
              "      background-color: #E8F0FE;\n",
              "      border: none;\n",
              "      border-radius: 50%;\n",
              "      cursor: pointer;\n",
              "      display: none;\n",
              "      fill: #1967D2;\n",
              "      height: 32px;\n",
              "      padding: 0 0 0 0;\n",
              "      width: 32px;\n",
              "    }\n",
              "\n",
              "    .colab-df-convert:hover {\n",
              "      background-color: #E2EBFA;\n",
              "      box-shadow: 0px 1px 2px rgba(60, 64, 67, 0.3), 0px 1px 3px 1px rgba(60, 64, 67, 0.15);\n",
              "      fill: #174EA6;\n",
              "    }\n",
              "\n",
              "    [theme=dark] .colab-df-convert {\n",
              "      background-color: #3B4455;\n",
              "      fill: #D2E3FC;\n",
              "    }\n",
              "\n",
              "    [theme=dark] .colab-df-convert:hover {\n",
              "      background-color: #434B5C;\n",
              "      box-shadow: 0px 1px 3px 1px rgba(0, 0, 0, 0.15);\n",
              "      filter: drop-shadow(0px 1px 2px rgba(0, 0, 0, 0.3));\n",
              "      fill: #FFFFFF;\n",
              "    }\n",
              "  </style>\n",
              "\n",
              "      <script>\n",
              "        const buttonEl =\n",
              "          document.querySelector('#df-074337b1-5a9b-4962-b0cd-fd4cbc89b256 button.colab-df-convert');\n",
              "        buttonEl.style.display =\n",
              "          google.colab.kernel.accessAllowed ? 'block' : 'none';\n",
              "\n",
              "        async function convertToInteractive(key) {\n",
              "          const element = document.querySelector('#df-074337b1-5a9b-4962-b0cd-fd4cbc89b256');\n",
              "          const dataTable =\n",
              "            await google.colab.kernel.invokeFunction('convertToInteractive',\n",
              "                                                     [key], {});\n",
              "          if (!dataTable) return;\n",
              "\n",
              "          const docLinkHtml = 'Like what you see? Visit the ' +\n",
              "            '<a target=\"_blank\" href=https://colab.research.google.com/notebooks/data_table.ipynb>data table notebook</a>'\n",
              "            + ' to learn more about interactive tables.';\n",
              "          element.innerHTML = '';\n",
              "          dataTable['output_type'] = 'display_data';\n",
              "          await google.colab.output.renderOutput(dataTable, element);\n",
              "          const docLink = document.createElement('div');\n",
              "          docLink.innerHTML = docLinkHtml;\n",
              "          element.appendChild(docLink);\n",
              "        }\n",
              "      </script>\n",
              "    </div>\n",
              "  </div>\n",
              "  "
            ]
          },
          "metadata": {},
          "execution_count": 23
        }
      ],
      "source": [
        "# convert the hoursplay into rating\n",
        "df = df[(df['hoursplay']>=2) & (df['status']=='play')]\n",
        "df_filtered = df[df.groupby('games').user_id.transform(len)>=20]\n",
        "df_filtered['games'].nunique()\n",
        "df_filtered.head(20)\n",
        "\n",
        "df_filtered['user_id'] = df_filtered['user_id'].astype(str)\n",
        "averages = df_filtered.groupby(['games'],as_index=False).hoursplay.mean()\n",
        "averages['avg_hoursplay'] = averages['hoursplay']\n",
        "averages.drop('hoursplay',axis=1,inplace=True)\n",
        "\n",
        "final_ratings = pd.merge(df_filtered, averages[['games','avg_hoursplay']],on='games')\n",
        "condition = [\n",
        "             (final_ratings['hoursplay']>=0.8*final_ratings['avg_hoursplay']),\n",
        "             (final_ratings['hoursplay']>=0.6*final_ratings['avg_hoursplay'])&(final_ratings['hoursplay']<0.8*final_ratings['avg_hoursplay']),\n",
        "             (final_ratings['hoursplay']>=0.4*final_ratings['avg_hoursplay'])&(final_ratings['hoursplay']<0.6*final_ratings['avg_hoursplay']),\n",
        "             (final_ratings['hoursplay']>=0.2*final_ratings['avg_hoursplay'])&(final_ratings['hoursplay']<0.4*final_ratings['avg_hoursplay']),\n",
        "             final_ratings['hoursplay']>=0,\n",
        "             ]\n",
        "\n",
        "values=[5,4,3,2,1]\n",
        "final_ratings['rating'] = np.select(condition, values)\n",
        "final_ratings"
      ]
    },
    {
      "cell_type": "code",
      "execution_count": null,
      "metadata": {
        "id": "XXBW4xzzZiPv"
      },
      "outputs": [],
      "source": [
        "# keep only important columns( user_id, games,rating ) drop everthing else \n",
        "final_ratings = final_ratings.drop(['status','hoursplay','avg_hoursplay'],axis=1)"
      ]
    },
    {
      "cell_type": "markdown",
      "metadata": {
        "id": "fUuhTgxTvWAL"
      },
      "source": [
        "# MEMORY BASED COLLABORATIVE FILTERING\n",
        "\n",
        "Memory-based algorithms approach the collaborative filtering problem by using the entire database.It tries to find users that are similar to the active user (i.e. the users we want to make predictions for), and uses their preferences to predict ratings for the active user."
      ]
    },
    {
      "cell_type": "code",
      "execution_count": null,
      "metadata": {
        "id": "Ldaj40pJc5Lr"
      },
      "outputs": [],
      "source": [
        "#import pairwise_distances, cosine, corelation\n",
        "from sklearn.metrics.pairwise import cosine_similarity,pairwise_distances"
      ]
    },
    {
      "cell_type": "code",
      "execution_count": null,
      "metadata": {
        "id": "J8C5ykDCUbQe"
      },
      "outputs": [],
      "source": [
        "# create pivot table containing user_id as index, games as columns, ratings as values\n",
        "user_item = pd.pivot_table(final_ratings,values='rating',index='user_id',columns='games')\n"
      ]
    },
    {
      "cell_type": "code",
      "execution_count": null,
      "metadata": {
        "colab": {
          "base_uri": "https://localhost:8080/"
        },
        "id": "Lbgw7l06UbOx",
        "outputId": "4086796e-963d-4b71-ad3d-cbd5e0815128"
      },
      "outputs": [
        {
          "output_type": "stream",
          "name": "stdout",
          "text": [
            "(8315, 431)\n",
            "games      7 Days to Die  APB Reloaded  ARK Survival Evolved  Ace of Spades  \\\n",
            "user_id                                                                       \n",
            "100053304            NaN           NaN                   NaN            NaN   \n",
            "100057229            NaN           NaN                   NaN            NaN   \n",
            "100070732            NaN           NaN                   NaN            NaN   \n",
            "100096071            NaN           NaN                   NaN            NaN   \n",
            "100168166            NaN           NaN                   NaN            NaN   \n",
            "\n",
            "games      AdVenture Capitalist  Aftermath  Age of Chivalry  \\\n",
            "user_id                                                       \n",
            "100053304                   NaN        NaN              NaN   \n",
            "100057229                   NaN        NaN              NaN   \n",
            "100070732                   NaN        NaN              NaN   \n",
            "100096071                   NaN        NaN              NaN   \n",
            "100168166                   NaN        NaN              NaN   \n",
            "\n",
            "games      Age of Empires II HD Edition  \\\n",
            "user_id                                   \n",
            "100053304                           NaN   \n",
            "100057229                           NaN   \n",
            "100070732                           NaN   \n",
            "100096071                           NaN   \n",
            "100168166                           NaN   \n",
            "\n",
            "games      Age of Empires III Complete Collection  \\\n",
            "user_id                                             \n",
            "100053304                                     NaN   \n",
            "100057229                                     NaN   \n",
            "100070732                                     NaN   \n",
            "100096071                                     NaN   \n",
            "100168166                                     NaN   \n",
            "\n",
            "games      Age of Mythology Extended Edition  ...  \\\n",
            "user_id                                       ...   \n",
            "100053304                                NaN  ...   \n",
            "100057229                                NaN  ...   \n",
            "100070732                                NaN  ...   \n",
            "100096071                                NaN  ...   \n",
            "100168166                                NaN  ...   \n",
            "\n",
            "games      Warhammer 40,000 Dawn of War II - Chaos Rising  \\\n",
            "user_id                                                     \n",
            "100053304                                             NaN   \n",
            "100057229                                             NaN   \n",
            "100070732                                             NaN   \n",
            "100096071                                             NaN   \n",
            "100168166                                             NaN   \n",
            "\n",
            "games      Warhammer 40,000 Space Marine  Wasteland 2  Watch_Dogs  \\\n",
            "user_id                                                             \n",
            "100053304                            NaN          NaN         NaN   \n",
            "100057229                            NaN          NaN         NaN   \n",
            "100070732                            NaN          NaN         NaN   \n",
            "100096071                            NaN          NaN         NaN   \n",
            "100168166                            NaN          NaN         NaN   \n",
            "\n",
            "games      Wolfenstein The New Order  Worms Reloaded  Worms Revolution  \\\n",
            "user_id                                                                  \n",
            "100053304                        NaN             NaN               NaN   \n",
            "100057229                        NaN             NaN               NaN   \n",
            "100070732                        NaN             NaN               NaN   \n",
            "100096071                        NaN             NaN               NaN   \n",
            "100168166                        NaN             NaN               NaN   \n",
            "\n",
            "games      XCOM Enemy Unknown  Zombie Panic Source  theHunter  \n",
            "user_id                                                        \n",
            "100053304                 NaN                  NaN        NaN  \n",
            "100057229                 NaN                  NaN        NaN  \n",
            "100070732                 NaN                  NaN        NaN  \n",
            "100096071                 NaN                  NaN        NaN  \n",
            "100168166                 NaN                  NaN        NaN  \n",
            "\n",
            "[5 rows x 431 columns]\n"
          ]
        }
      ],
      "source": [
        "#check shape of pivot table\n",
        "print(user_item.shape)\n",
        "#check first five rows of pivot table\n",
        "print(user_item.head())"
      ]
    },
    {
      "cell_type": "code",
      "execution_count": null,
      "metadata": {
        "id": "Ms7p71YdUbLU"
      },
      "outputs": [],
      "source": [
        "## Note: As we are subtracting the mean from each rating to standardize\n",
        "##all users with only one rating or who had rated everything the same will be dropped\n",
        "# Normalize the values in pivot table\n",
        "piv_norm = user_item.apply(lambda x: (x-np.mean(x))/(np.max(x)-np.min(x)),axis=1)\n",
        "\n",
        "# Drop all columns containing only zeros representing users who did not rate\n",
        "\n",
        "piv_norm.fillna(0, inplace=True)\n",
        "piv_norm = piv_norm.T\n",
        "piv_norm = piv_norm.loc[:, (piv_norm !=0).any(axis=0)]"
      ]
    },
    {
      "cell_type": "code",
      "execution_count": null,
      "metadata": {
        "id": "inXGLPRdVJ5-"
      },
      "outputs": [],
      "source": [
        "# import scipy, operator\n",
        "import operator\n",
        "import scipy"
      ]
    },
    {
      "cell_type": "code",
      "execution_count": null,
      "metadata": {
        "id": "xpsBIdLbUbJn",
        "colab": {
          "base_uri": "https://localhost:8080/"
        },
        "outputId": "f015dfdd-ac9a-45cc-8bd6-5c3109790d7e"
      },
      "outputs": [
        {
          "output_type": "stream",
          "name": "stderr",
          "text": [
            "/usr/local/lib/python3.7/dist-packages/ipykernel_launcher.py:2: DeprecationWarning: `np.int` is a deprecated alias for the builtin `int`. To silence this warning, use `int` by itself. Doing this will not modify any behavior and is safe. When replacing `np.int`, you may wish to use e.g. `np.int64` or `np.int32` to specify the precision. If you wish to review your current use, check the release note link for additional information.\n",
            "Deprecated in NumPy 1.20; for more details and guidance: https://numpy.org/devdocs/release/1.20.0-notes.html#deprecations\n",
            "  \n"
          ]
        }
      ],
      "source": [
        "# convert the data into sparse matrix format to be read by the following functions\n",
        "dense_matrix = np.array(piv_norm.to_numpy(), dtype=bool).astype(np.int)\n",
        "sparse_matrix = scipy.sparse.csr_matrix(dense_matrix)\n"
      ]
    },
    {
      "cell_type": "code",
      "execution_count": null,
      "metadata": {
        "id": "161las8mUbGe"
      },
      "outputs": [],
      "source": [
        "# create matrices to show the computed cosine similarity values between each user/user array pair and item/item array pair.\n",
        "\n",
        "item_sim = cosine_similarity(sparse_matrix)\n",
        "user_sim = cosine_similarity(sparse_matrix.T)"
      ]
    },
    {
      "cell_type": "code",
      "execution_count": null,
      "metadata": {
        "id": "JWrYUdrCUbEu"
      },
      "outputs": [],
      "source": [
        "# Inserting the similarity matricies into dataframe objects\n",
        "\n",
        "#item similarity dataframe\n",
        "item_sim_df = pd.DataFrame(item_sim, index= piv_norm.index, columns = piv_norm.index)\n",
        "#user similarity dataframe\n",
        "user_sim_df = pd.DataFrame(user_sim, index = piv_norm.columns , columns = piv_norm.columns)"
      ]
    },
    {
      "cell_type": "code",
      "execution_count": null,
      "metadata": {
        "id": "VBSl_QsTUbCh"
      },
      "outputs": [],
      "source": [
        "# write a function which will return the top 10 games with the highest cosine similarity value\n",
        "\n",
        "def top_game(game):\n",
        "  count=1\n",
        "  print('Similar games to {} include:\\n'.format(game))\n",
        "  for item in item_sim_df.sort_values(by= game, ascending= False).index[1:11]:\n",
        "    print('No. {}: {}'.format(count, item))\n",
        "    count += 1\n",
        "\n"
      ]
    },
    {
      "cell_type": "code",
      "source": [
        "top_game('Aftermath')"
      ],
      "metadata": {
        "colab": {
          "base_uri": "https://localhost:8080/"
        },
        "id": "Pr3ahmY1BmS7",
        "outputId": "1c01d683-548e-45a5-f2a6-1cc2df23c995"
      },
      "execution_count": null,
      "outputs": [
        {
          "output_type": "stream",
          "name": "stdout",
          "text": [
            "Similar games to Aftermath include:\n",
            "\n",
            "No. 1: Trove\n",
            "No. 2: Unturned\n",
            "No. 3: theHunter\n",
            "No. 4: Warface\n",
            "No. 5: Dirty Bomb\n",
            "No. 6: Heroes & Generals\n",
            "No. 7: Counter-Strike Global Offensive\n",
            "No. 8: Rust\n",
            "No. 9: SMITE\n",
            "No. 10: Infestation Survivor Stories\n"
          ]
        }
      ]
    },
    {
      "cell_type": "code",
      "execution_count": null,
      "metadata": {
        "colab": {
          "base_uri": "https://localhost:8080/"
        },
        "id": "0v0_2KKkW6BN",
        "outputId": "9b65ee51-4c59-4acd-8918-f6d3372a2df5"
      },
      "outputs": [
        {
          "output_type": "execute_result",
          "data": {
            "text/plain": [
              "Index(['100057229', '100096071', '100311267', '100322840', '100351493',\n",
              "       '100359523', '100431715', '100444456', '100519466', '100630947',\n",
              "       ...\n",
              "       '994489', '9946133', '99484728', '99640715', '99704390', '99711581',\n",
              "       '99713453', '99723205', '99766416', '99802512'],\n",
              "      dtype='object', name='user_id', length=3059)"
            ]
          },
          "metadata": {},
          "execution_count": 38
        }
      ],
      "source": [
        "# check the column of pivot table\n",
        "piv_norm.columns"
      ]
    },
    {
      "cell_type": "code",
      "execution_count": null,
      "metadata": {
        "id": "U6_RWwwWUa_b"
      },
      "outputs": [],
      "source": [
        "# write a function which will return the top 5 users with the highest similarity value \n",
        "\n",
        "def top_users(user):\n",
        "\n",
        "  if user not in piv_norm.columns:\n",
        "    return('No data available on user {}'.format(user))\n",
        "\n",
        "  print('Most similar Users:\\n')\n",
        "  sim_values = user_sim_df.sort_values(by=user, ascending = False).loc[:,user].tolist()[1:11]\n",
        "  sim_users = user_sim_df.sort_values(by=user, ascending= False).index[1:11]\n",
        "\n",
        "  zipped = zip(sim_users, sim_values,)\n",
        "  for user, sim in zipped:\n",
        "    print('User #(0), Similarity value: {1:.2f}'.format(user,sim))\n",
        "\n"
      ]
    },
    {
      "cell_type": "code",
      "execution_count": null,
      "metadata": {
        "colab": {
          "base_uri": "https://localhost:8080/"
        },
        "id": "zgwURJjDUa84",
        "outputId": "4380bd66-9490-444b-a727-7f319930862e"
      },
      "outputs": [
        {
          "output_type": "stream",
          "name": "stdout",
          "text": [
            "Most similar Users:\n",
            "\n",
            "User #(0), Similarity value: 0.82\n",
            "User #(0), Similarity value: 0.77\n",
            "User #(0), Similarity value: 0.67\n",
            "User #(0), Similarity value: 0.67\n",
            "User #(0), Similarity value: 0.67\n",
            "User #(0), Similarity value: 0.61\n",
            "User #(0), Similarity value: 0.58\n",
            "User #(0), Similarity value: 0.58\n",
            "User #(0), Similarity value: 0.58\n",
            "User #(0), Similarity value: 0.58\n"
          ]
        }
      ],
      "source": [
        "top_users('99484728')"
      ]
    },
    {
      "cell_type": "code",
      "execution_count": null,
      "metadata": {
        "id": "Ucy6tuedUa6N"
      },
      "outputs": [],
      "source": [
        "# write a function which constructs a list of lists containing the highest rated games per similar user\n",
        "# and returns the name of the game along with the frequency it appears in the list\n",
        "def similar_user_recs(user):\n",
        "\n",
        "  if user not in piv_norm.columns:\n",
        "    return('No data avaiable on user {}'.format(user))\n",
        "\n",
        "  sim_users = user_sim_df.sort_values(by=user, ascending = False).index[1:11]\n",
        "  best= []\n",
        "  most_common = {}\n",
        "\n",
        "  for i in sim_users:\n",
        "    max_score = piv_norm.loc[:, i].max()\n",
        "    best.append(piv_norm[piv_norm.loc[:, i]==max_score].index.tolist())\n",
        "  for i in range(len(best)):\n",
        "    for j in best[i]:\n",
        "      if j in most_common:\n",
        "        most_common[j] += 1\n",
        "      else:\n",
        "        most_common[j] = 1\n",
        "  sorted_list = sorted(most_common.items(), key= operator.itemgetter(1), reverse = True)\n",
        "  return sorted_list[:5]\n"
      ]
    },
    {
      "cell_type": "code",
      "execution_count": null,
      "metadata": {
        "colab": {
          "base_uri": "https://localhost:8080/"
        },
        "id": "ewOZTTgYUa4E",
        "outputId": "34b32aff-62d5-4022-c596-197e1941bdb9"
      },
      "outputs": [
        {
          "output_type": "execute_result",
          "data": {
            "text/plain": [
              "[('Team Fortress 2', 3),\n",
              " ('Robocraft', 3),\n",
              " ('Portal 2', 3),\n",
              " (\"Garry's Mod\", 3),\n",
              " ('Terraria', 2)]"
            ]
          },
          "metadata": {},
          "execution_count": 63
        }
      ],
      "source": [
        "\n",
        "similar_user_recs('100519466')"
      ]
    },
    {
      "cell_type": "markdown",
      "metadata": {
        "id": "B-gp2ijmu1aS"
      },
      "source": [
        "# COLLABORATIVE FILTERING USING KNN\n",
        "\n",
        "Collaborative Filtering Using k-Nearest Neighbors (kNN). kNN is a machine learning algorithm to find clusters of similar users based on common ratings, and make predictions using the average rating of top-k nearest neighbors.\n",
        "\n",
        "https://datascienceplus.com/building-a-book-recommender-system-the-basics-knn-and-matrix-factorization/"
      ]
    },
    {
      "cell_type": "code",
      "execution_count": null,
      "metadata": {
        "colab": {
          "base_uri": "https://localhost:8080/"
        },
        "id": "t1gOIvynUaxv",
        "outputId": "8257dfaa-667d-4c77-8f2d-595b1c0cfa77"
      },
      "outputs": [
        {
          "output_type": "execute_result",
          "data": {
            "text/plain": [
              "NearestNeighbors(algorithm='brute', metric='cosine', n_jobs=-1, n_neighbors=20)"
            ]
          },
          "metadata": {},
          "execution_count": 69
        }
      ],
      "source": [
        "# import NearestNeighbors\n",
        "from sklearn.neighbors import NearestNeighbors\n",
        "\n",
        "model_knn = NearestNeighbors(metric = 'cosine', algorithm = 'brute', n_neighbors=20, n_jobs=-1)\n",
        "\n",
        "#make an object for the NearestNeighbors Class.\n",
        "\n",
        "# fit the dataset\n",
        "model_knn.fit(piv_norm)"
      ]
    },
    {
      "cell_type": "markdown",
      "metadata": {
        "id": "DUQpiGdRFP6w"
      },
      "source": [
        "\n",
        "Test model and make some recommendations:"
      ]
    },
    {
      "cell_type": "code",
      "execution_count": null,
      "metadata": {
        "colab": {
          "base_uri": "https://localhost:8080/"
        },
        "id": "lYoqkJefFujG",
        "outputId": "d40248e2-157a-4079-bb7e-baf1df08cdbb"
      },
      "outputs": [
        {
          "output_type": "stream",
          "name": "stdout",
          "text": [
            "Choose game is:  Dishonored\n",
            "Recommendations for Dishonored: \n",
            "\n",
            "1: Wolfenstein The New Order, with distance of 0.8672516892407047:\n",
            "2: Mark of the Ninja, with distance of 0.8851616617103619:\n",
            "3: Castle Crashers, with distance of 0.890836200580252:\n",
            "4: Alien Isolation, with distance of 0.9101974277583976:\n",
            "5: Metro Last Light, with distance of 0.9116619497123555:\n"
          ]
        },
        {
          "output_type": "stream",
          "name": "stderr",
          "text": [
            "/usr/local/lib/python3.7/dist-packages/sklearn/base.py:451: UserWarning: X does not have valid feature names, but NearestNeighbors was fitted with feature names\n",
            "  \"X does not have valid feature names, but\"\n"
          ]
        }
      ],
      "source": [
        "import random\n",
        "# choose random game\n",
        "query_index = np.random.choice(piv_norm.shape[0])\n",
        "# print the name of random game\n",
        "print(\"Choose game is: \" , piv_norm.index[query_index])\n",
        "\n",
        "# use kNN algorithm to measures distance to determine the closeness of instances.\n",
        "distances, indices = model_knn.kneighbors(piv_norm.iloc[query_index, :].values.reshape(1, -1), n_neighbors = 6)\n",
        "\n",
        "# pick most popular games among the neighbors and print their names\n",
        "for i in range(0, len(distances.flatten())):\n",
        "  if i == 0:\n",
        "    print('Recommendations for {0}: \\n'.format(piv_norm.index[query_index]))\n",
        "  else:\n",
        "    print('{0}: {1}, with distance of {2}:'.format(i, piv_norm.index[indices.flatten()[i]], distances.flatten()[i]))"
      ]
    },
    {
      "cell_type": "markdown",
      "metadata": {
        "id": "qQdGSocKKfYP"
      },
      "source": [
        "#Conclusion\n",
        "\n",
        "We can use different methods based on our problem statement and dataset. Here we used collaborative filtering technique to recommend games.We can use this method to recommend a lot of other things as well such as music, movies, books, news etc. "
      ]
    }
  ],
  "metadata": {
    "colab": {
      "collapsed_sections": [],
      "name": "steam_video_game .ipynb",
      "provenance": [],
      "toc_visible": true
    },
    "kernelspec": {
      "display_name": "Python 3",
      "language": "python",
      "name": "python3"
    },
    "language_info": {
      "codemirror_mode": {
        "name": "ipython",
        "version": 3
      },
      "file_extension": ".py",
      "mimetype": "text/x-python",
      "name": "python",
      "nbconvert_exporter": "python",
      "pygments_lexer": "ipython3",
      "version": "3.7.6"
    }
  },
  "nbformat": 4,
  "nbformat_minor": 0
}